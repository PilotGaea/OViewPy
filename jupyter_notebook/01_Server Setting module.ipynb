{
 "cells": [
  {
   "cell_type": "markdown",
   "metadata": {},
   "source": [
    "# Server Module"
   ]
  },
  {
   "cell_type": "markdown",
   "metadata": {},
   "source": [
    "## 安裝PliotGaea Python Module\n",
    "\n",
    "From pip install：\n",
    "\n",
    "> ```shell\n",
    "> pip install OViewPy\n",
    "> ```\n",
    ">"
   ]
  },
  {
   "cell_type": "markdown",
   "metadata": {},
   "source": [
    "## 初始化Server物件\n",
    "本章節為PliotGaea Python Module的起始點，在執行所有操作前須先初始化Server物件，提供Module取得Map Server資源的相關連線資訊。"
   ]
  },
  {
   "cell_type": "code",
   "execution_count": null,
   "metadata": {},
   "outputs": [],
   "source": [
    "from OViewPy.server import Server\n",
    "\n",
    "# 綁定Server物件\n",
    "server = Server(url=\"http://127.0.0.1:8080\")\n"
   ]
  },
  {
   "cell_type": "markdown",
   "metadata": {},
   "source": [
    "綁定Server物件後，即可取得Server相關資訊。"
   ]
  },
  {
   "cell_type": "code",
   "execution_count": null,
   "metadata": {},
   "outputs": [],
   "source": [
    "from OViewPy.server import Server\n",
    "\n",
    "# 綁定Server物件\n",
    "server = Server(url=\"http://127.0.0.1:8080\")\n",
    "# 取得目前Server版本\n",
    "print(\"OView Map Server Version：\", server.version)\n",
    "# 取得WMTS URL\n",
    "print(\"WMTS URL：\", server.wmtsURL)\n",
    "# 取得WMS URL\n",
    "print(\"WMS URL：\", server.wmsURL)\n",
    "# 取得DoCommand URL\n",
    "print(\"DoCommand URL：\", server.docmdURL)\n"
   ]
  },
  {
   "cell_type": "markdown",
   "metadata": {},
   "source": [
    "## 取得圖層列表"
   ]
  },
  {
   "cell_type": "markdown",
   "metadata": {},
   "source": [
    "綁定Server物件後，可透過`getLayerList`取得2D圖層列表詳細資訊。<br/>\n",
    "亦可使用`getOViewLayerList`取得3D圖層列表詳細資訊。"
   ]
  },
  {
   "cell_type": "code",
   "execution_count": null,
   "metadata": {},
   "outputs": [],
   "source": [
    "from OViewPy.server import Server\n",
    "\n",
    "# 綁定Server物件\n",
    "server = Server(url=\"http://127.0.0.1:8080\")\n",
    "layerList = server.getLayerList()\n",
    "OViewLayerList = server.getOViewLayerList()\n",
    "for list in layerList:\n",
    "    print(list)\n",
    "print(\"===========================================\")\n",
    "for list in OViewLayerList:\n",
    "    print(list)\n"
   ]
  },
  {
   "cell_type": "markdown",
   "metadata": {},
   "source": [
    "## 刪除圖層"
   ]
  },
  {
   "cell_type": "markdown",
   "metadata": {},
   "source": [
    "如果想要刪除Server中已存在的圖層，可透過`deleteLayer`與`deleteOViewLayer`分別刪除2D及3D圖層。\n",
    "> 注意！此刪除無法復原，請警慎使用。"
   ]
  },
  {
   "cell_type": "code",
   "execution_count": null,
   "metadata": {},
   "outputs": [],
   "source": [
    "from OViewPy.server import Server\n",
    "\n",
    "# 綁定Server物件\n",
    "server = Server(url=\"http://127.0.0.1:8080\")\n",
    "server.deleteLayer(layerName=\"ne_10m_lakes\")\n",
    "server.deleteOViewLayer(layerName=\"ModelSet\")\n"
   ]
  },
  {
   "cell_type": "markdown",
   "metadata": {},
   "source": [
    "## 上架圖層"
   ]
  },
  {
   "cell_type": "markdown",
   "metadata": {},
   "source": [
    "### 將圖片上架至伺服器"
   ]
  },
  {
   "cell_type": "markdown",
   "metadata": {},
   "source": [
    "透過`saveImageToServer`可將圖片(JPG、PNG等)上架至Server\n",
    "\n",
    "> 需特別注意，上架的圖片需在Server端目錄底下，並有相對應的World File，且確認圖層名稱不是已存在的圖層。\n",
    "\n",
    "| 參數名稱 | Type | 預設值 | 說明 |\n",
    "| :-----: | :---: | :---: | :--: |\n",
    "| imageFilePath | string | None | 圖片檔案位置 |\n",
    "| layerName | string | None | 上架後的圖層名稱 |\n",
    "| epsg | int | 4326 | 座標參考系統 |"
   ]
  },
  {
   "cell_type": "code",
   "execution_count": null,
   "metadata": {},
   "outputs": [],
   "source": [
    "from OViewPy.server import Server\n",
    "from OViewPy.layer import VectorLayer\n",
    "from OViewPy.varstruct import GeoBoundary\n",
    "from OViewPy.da import da\n",
    "\n",
    "# 綁定Server物件\n",
    "server = Server(url=\"http://127.0.0.1:8080\")\n",
    "# 綁定Layer物件\n",
    "layer = VectorLayer(server=server, layerName=\"Town_MOI\")\n",
    "boundary = GeoBoundary(147522.218692, 2422004.773002,\n",
    "                       351690.114369, 2813163.248085)\n",
    "# 取得圖片，取得成功會回傳圖片bytes資料\n",
    "img = layer.getMapImage(\n",
    "    boundary=boundary,\n",
    "    crs=\"EPSG:3826\",\n",
    "    width=512,\n",
    "    height=512,\n",
    "    format=\"image/png\"\n",
    ")\n",
    "# 儲存圖片，並生成World File\n",
    "da.saveImg(\n",
    "    img=img,\n",
    "    savePath=\".\",\n",
    "    imgName=\"testImage\",\n",
    "    imgType=\"png\",\n",
    "    worldFile=True,\n",
    "    boundary=boundary\n",
    ")\n",
    "# 將圖片上架至Server\n",
    "server.saveImageToServer(\n",
    "    imageFilePath=\"D:\\\\NCHCProject\\\\jupyter_notebook\\\\testImage.png\",\n",
    "    layerName=\"testImage\",\n",
    "    epsg=3826\n",
    ")\n"
   ]
  },
  {
   "cell_type": "markdown",
   "metadata": {},
   "source": [
    "執行結果如下：<br/>\n",
    "\n",
    "![saveImageToServer](./img/saveImgToServer.png)"
   ]
  },
  {
   "cell_type": "markdown",
   "metadata": {},
   "source": [
    "## 將Vector File上架至伺服器"
   ]
  },
  {
   "cell_type": "markdown",
   "metadata": {},
   "source": [
    "透過`saveVectorFileToServer`可將Vector File上架至Server\n",
    "\n",
    "> 需特別注意，上架的Vector File需在Server端目錄底下，並確認圖層名稱不是已存在的圖層。\n",
    "\n",
    "| 參數名稱 | Type | 預設值 | 說明 |\n",
    "| :-----: | :---: | :---: | :--: |\n",
    "| VectorFilePath | string | None | Vector File位置 |\n",
    "| layerName | string | None | 上架後的圖層名稱 |\n",
    "| epsg | int | 4326 | 座標參考系統 |"
   ]
  },
  {
   "cell_type": "code",
   "execution_count": 5,
   "metadata": {},
   "outputs": [
    {
     "name": "stdout",
     "output_type": "stream",
     "text": [
      "Done！\n"
     ]
    }
   ],
   "source": [
    "from OViewPy.server import Server\n",
    "from OViewPy.layer import VectorLayer\n",
    "from OViewPy.varstruct import GeoBoundary\n",
    "from OViewPy.da import da\n",
    "\n",
    "# 綁定Server物件\n",
    "server = Server(url=\"http://127.0.0.1:8080\")\n",
    "# 綁定Layer物件\n",
    "map = VectorLayer(server=server, layerName=\"Town_MOI\")\n",
    "# 設定搜尋條件\n",
    "sql = \"County_ID==64\"\n",
    "# 取得向量資料\n",
    "ret = map.getVectorEmtity(epsg=3826, sql=sql)\n",
    "# 將向量資料存成SHP檔\n",
    "da.saveAsShapeFile(sourceGeo=ret[\"geo\"],\n",
    "                   sourceAttr=ret[\"attr\"], fileName=\"TestShp_Kh2\")\n",
    "# 將SHP檔上架至伺服器\n",
    "server.saveVectorFileToServer(\n",
    "    VectorFilePath=\"D:\\\\NCHCProject\\\\jupyter_notebook\\\\TestShp_Kh2.shp\", layerName=\"TestShp_Kh2\", epsg=3826)\n"
   ]
  }
 ],
 "metadata": {
  "kernelspec": {
   "display_name": "Python 3.9.7 64-bit",
   "language": "python",
   "name": "python3"
  },
  "language_info": {
   "codemirror_mode": {
    "name": "ipython",
    "version": 3
   },
   "file_extension": ".py",
   "mimetype": "text/x-python",
   "name": "python",
   "nbconvert_exporter": "python",
   "pygments_lexer": "ipython3",
   "version": "3.9.7"
  },
  "orig_nbformat": 4,
  "vscode": {
   "interpreter": {
    "hash": "50494ffbcb0671a7b78181fa0a9b25de7884a951d19292c68aa5e49b4d5d44ac"
   }
  }
 },
 "nbformat": 4,
 "nbformat_minor": 2
}

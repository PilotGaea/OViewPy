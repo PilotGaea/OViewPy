{
 "cells": [
  {
   "cell_type": "markdown",
   "metadata": {},
   "source": [
    "# Server Module"
   ]
  },
  {
   "cell_type": "markdown",
   "metadata": {},
   "source": [
    "## 安裝PliotGaea Python Module\n",
    "\n",
    "From pip install：\n",
    "\n",
    "> ```shell\n",
    "> pip install OViewPy\n",
    "> ```\n",
    ">"
   ]
  },
  {
   "cell_type": "markdown",
   "metadata": {},
   "source": [
    "## 初始化Server物件\n",
    "本章節為PliotGaea Python Module的起始點，在執行所有操作前須先初始化Server物件，提供Module取得Map Server資源的相關連線資訊。"
   ]
  },
  {
   "cell_type": "code",
   "execution_count": null,
   "metadata": {},
   "outputs": [],
   "source": [
    "from OViewPy.server import Server\n",
    "\n",
    "# 綁定Server物件\n",
    "server = Server(url=\"http://127.0.0.1:8080\")\n"
   ]
  },
  {
   "cell_type": "markdown",
   "metadata": {},
   "source": [
    "綁定Server物件後，即可取得Server相關資訊。"
   ]
  },
  {
   "cell_type": "code",
   "execution_count": null,
   "metadata": {},
   "outputs": [],
   "source": [
    "from OViewPy.server import Server\n",
    "\n",
    "# 綁定Server物件\n",
    "server = Server(url=\"http://127.0.0.1:8080\")\n",
    "# 取得目前Server版本\n",
    "print(\"OView Map Server Version：\", server.version)\n",
    "# 取得WMTS URL\n",
    "print(\"WMTS URL：\", server.wmtsURL)\n",
    "# 取得WMS URL\n",
    "print(\"WMS URL：\", server.wmsURL)\n",
    "# 取得DoCommand URL\n",
    "print(\"DoCommand URL：\", server.docmdURL)\n"
   ]
  },
  {
   "cell_type": "markdown",
   "metadata": {},
   "source": [
    "## 取得圖層列表"
   ]
  },
  {
   "cell_type": "markdown",
   "metadata": {},
   "source": [
    "綁定Server物件後，可透過`getLayerList`取得2D圖層列表詳細資訊。  \n",
    "亦可使用`getOViewLayerList`取得3D圖層列表詳細資訊。"
   ]
  },
  {
   "cell_type": "code",
   "execution_count": null,
   "metadata": {},
   "outputs": [],
   "source": [
    "from OViewPy.server import Server\n",
    "\n",
    "# 綁定Server物件\n",
    "server = Server(url=\"http://127.0.0.1:8080\")\n",
    "layerList = server.getLayerList()\n",
    "OViewLayerList = server.getOViewLayerList()\n",
    "for list in layerList:\n",
    "    print(list)\n",
    "print(\"===========================================\")\n",
    "for list in OViewLayerList:\n",
    "    print(list)\n"
   ]
  },
  {
   "cell_type": "markdown",
   "metadata": {},
   "source": [
    "## 刪除圖層"
   ]
  },
  {
   "cell_type": "markdown",
   "metadata": {},
   "source": [
    "如果想要刪除Server中已存在的圖層，可透過`deleteLayer`與`deleteOViewLayer`分別刪除2D及3D圖層。\n",
    "> 注意！此刪除無法復原，請警慎使用。"
   ]
  },
  {
   "cell_type": "code",
   "execution_count": null,
   "metadata": {},
   "outputs": [],
   "source": [
    "from OViewPy.server import Server\n",
    "\n",
    "# 綁定Server物件\n",
    "server = Server(url=\"http://127.0.0.1:8080\")\n",
    "server.deleteLayer(layerName=\"ne_10m_lakes\")\n",
    "server.deleteOViewLayer(layerName=\"ModelSet\")\n"
   ]
  },
  {
   "cell_type": "markdown",
   "metadata": {},
   "source": [
    "## 上架圖層"
   ]
  },
  {
   "cell_type": "markdown",
   "metadata": {},
   "source": [
    "### 將圖片上架至伺服器"
   ]
  },
  {
   "cell_type": "markdown",
   "metadata": {},
   "source": [
    "透過`saveImageToServer`可將圖片(JPG、PNG等)上架至Server\n",
    "\n",
    "> 需特別注意，上架的圖片需在Server端目錄底下，並有相對應的World File，且確認圖層名稱不是已存在的圖層。\n",
    "\n",
    "| 參數名稱 | Type | 預設值 | 說明 |\n",
    "| :-----: | :---: | :---: | :--: |\n",
    "| imageFilePath | string | None | 圖片檔案位置 |\n",
    "| layerName | string | None | 上架後的圖層名稱 |\n",
    "| epsg | int | 4326 | 座標參考系統 |"
   ]
  },
  {
   "cell_type": "code",
   "execution_count": null,
   "metadata": {},
   "outputs": [],
   "source": [
    "from OViewPy.server import Server\n",
    "from OViewPy.layer import VectorLayer\n",
    "from OViewPy.varstruct import GeoBoundary\n",
    "from OViewPy.da import da\n",
    "\n",
    "# 綁定Server物件\n",
    "server = Server(url=\"http://127.0.0.1:8080\")\n",
    "# 綁定Layer物件\n",
    "layer = VectorLayer(server=server, layerName=\"Town_MOI\")\n",
    "boundary = GeoBoundary(147522.218692, 2422004.773002,\n",
    "                       351690.114369, 2813163.248085)\n",
    "# 取得圖片，取得成功會回傳圖片bytes資料\n",
    "img = layer.getMapImage(\n",
    "    boundary=boundary,\n",
    "    crs=\"EPSG:3826\",\n",
    "    width=512,\n",
    "    height=512,\n",
    "    format=\"image/png\"\n",
    ")\n",
    "# 儲存圖片，並生成World File\n",
    "da.saveImg(\n",
    "    img=img,\n",
    "    savePath=\".\",\n",
    "    imgName=\"testImage\",\n",
    "    imgType=\"png\",\n",
    "    worldFile=True,\n",
    "    boundary=boundary\n",
    ")\n",
    "# 將圖片上架至Server\n",
    "server.saveImageToServer(\n",
    "    imageFilePath=\"D:\\\\NCHCProject\\\\jupyter_notebook\\\\testImage.png\",\n",
    "    layerName=\"testImage\",\n",
    "    epsg=3826\n",
    ")\n"
   ]
  },
  {
   "cell_type": "markdown",
   "metadata": {},
   "source": [
    "執行結果如下：  \n",
    "\n",
    "![saveImageToServer](./img/saveImgToServer.png)"
   ]
  },
  {
   "cell_type": "markdown",
   "metadata": {},
   "source": [
    "## 將Vector File上架至伺服器"
   ]
  },
  {
   "cell_type": "markdown",
   "metadata": {},
   "source": [
    "透過`saveVectorFileToServer`可將Vector File上架至Server\n",
    "\n",
    "> 需特別注意，上架的Vector File需在Server端目錄底下，並確認圖層名稱不是已存在的圖層。\n",
    "\n",
    "| 參數名稱 | Type | 預設值 | 說明 |\n",
    "| :-----: | :---: | :---: | :--: |\n",
    "| VectorFilePath | string | None | Vector File位置 |\n",
    "| layerName | string | None | 上架後的圖層名稱 |\n",
    "| epsg | int | 4326 | 座標參考系統 |"
   ]
  },
  {
   "cell_type": "code",
   "execution_count": 5,
   "metadata": {},
   "outputs": [
    {
     "name": "stdout",
     "output_type": "stream",
     "text": [
      "Done！\n"
     ]
    }
   ],
   "source": [
    "from OViewPy.server import Server\n",
    "from OViewPy.layer import VectorLayer\n",
    "from OViewPy.varstruct import GeoBoundary\n",
    "from OViewPy.da import da\n",
    "\n",
    "# 綁定Server物件\n",
    "server = Server(url=\"http://127.0.0.1:8080\")\n",
    "# 綁定Layer物件\n",
    "map = VectorLayer(server=server, layerName=\"Town_MOI\")\n",
    "# 設定搜尋條件\n",
    "sql = \"County_ID==64\"\n",
    "# 取得向量資料\n",
    "ret = map.getVectorEntity(epsg=3826, sql=sql)\n",
    "# 將向量資料存成SHP檔\n",
    "da.saveAsShapeFile(sourceGeo=ret[\"geo\"],\n",
    "                   sourceAttr=ret[\"attr\"], fileName=\"TestShp_Kh2\")\n",
    "# 將SHP檔上架至伺服器\n",
    "server.saveVectorFileToServer(\n",
    "    VectorFilePath=\"D:\\\\NCHCProject\\\\jupyter_notebook\\\\TestShp_Kh2.shp\", layerName=\"TestShp_Kh2\", epsg=3826)\n"
   ]
  },
  {
   "cell_type": "markdown",
   "metadata": {},
   "source": [
    "## 將tif檔轉成dem檔，並將dem檔上架伺服器為地形圖層"
   ]
  },
  {
   "cell_type": "markdown",
   "metadata": {},
   "source": [
    "於3d的轉檔需要較久的時間，因此轉檔的函式會回傳一個id(如: `server.tifToDem`)  \n",
    "可以透過此id，去跟server詢問進度  \n",
    "當轉檔成功可以透過`server.save3dToServer`將此圖層上架至伺服器  \n",
    "`server.save3dToServer`可以透過id或是DB位置將其上架至伺服器"
   ]
  },
  {
   "cell_type": "code",
   "execution_count": null,
   "metadata": {},
   "outputs": [],
   "source": [
    "from OViewPy.server import Server\n",
    "from OViewPy.varstruct import LAYER_TYPE\n",
    "\n",
    "# 綁定Server物件\n",
    "server = Server(url=\"http://127.0.0.1:8080\")\n",
    "# tif檔轉成dem檔\n",
    "id = server.tifToDem(inputTifFile=\"defaultTIF.tif\", outputDemFile=\"defaultDEM2.dem\")\n",
    "# 回傳轉檔進度直到轉檔完成\n",
    "server.getConvert3dProgressToFinish(id)\n",
    "# dem檔轉成地形圖層\n",
    "id = server.convertTerrain(\"testDem\", \"testDem.DB\", \"./defaultDEM2.dem\", \"4326\")\n",
    "# 將此地形圖層上架至伺服器\n",
    "server.save3dToServer(dbLayerName=\"testDem\", layerName=\"testDem\", layerType=LAYER_TYPE.OV_TERRAIN.name, dbUrl=\"./testDem.DB\")"
   ]
  },
  {
   "cell_type": "markdown",
   "metadata": {},
   "source": [
    "## 將傾斜攝影轉檔並上架至伺服器"
   ]
  },
  {
   "cell_type": "markdown",
   "metadata": {},
   "source": [
    "透過綁定的server物件，並提供欲設定的圖層名稱(`layerName`)及輸出格式(`exportType`)，將傾斜攝影轉檔並上架至伺服器  \n",
    "由於3d的轉檔需要較久的時間，因此轉檔的函式會回傳一個id(如: `server.convertPhotogrammetry`)  \n",
    "可以透過此id，去跟server詢問進度  \n",
    "當轉檔成功透過`server.save3dToServer`依DB位置將圖層上架至伺服器(若輸出檔案格式為3DTILES則不上架)  \n",
    "| 參數名稱 | Type | 預設值 | 可輸入值 | 說明 |\n",
    "| :-----: | :---: | :---: | :---: | :--: |\n",
    "| layerName | string | None | --- | 上架後的圖層名稱 |\n",
    "| layerDBFile | string | 預設名稱與layerName相同 | --- | 轉檔後產生的DB檔名稱 |\n",
    "| inputFileName | string | None | --- | 欲轉檔檔案位置 |\n",
    "| terrainDBFile | string | None | --- | 初始地形圖層位置 |\n",
    "| terrainName | string | None | --- | 初始地形圖層名稱 |\n",
    "| exportType | string | None | NORMAL、I3S、3DTILES | 輸出檔案格式 |"
   ]
  },
  {
   "cell_type": "code",
   "execution_count": null,
   "metadata": {},
   "outputs": [],
   "source": [
    "from OViewPy.server import Server\n",
    "from OViewPy.varstruct import LAYER_TYPE\n",
    "# 綁定Server物件\n",
    "server = Server(url=\"http://127.0.0.1:8080\")\n",
    "# 設定layer名稱\n",
    "layerName = \"photogrammetry\"\n",
    "# 設定exportType(可輸入'NORMAL' or 'I3S' or '3DTILES')\n",
    "exportType = \"NORMAL\"\n",
    "# 轉檔傾斜攝影圖層，並會生成其對應之DB\n",
    "id = server.convertPhotogrammetry(layerName=layerName,\n",
    "                                  layerDBFile=layerName + \".DB\",\n",
    "                                  inputFileName=\"C:\\\\Users\\\\vaness.chen\\\\Desktop\\\\3DTEST\\\\基本圖資\\\\模型\\\\一門三節坊\\\\Acute3D\\\\一門三節坊\\\\Data\\\\LODTreeExport.xml\", \n",
    "                                  terrainDBFile=\"C:\\\\Users\\\\vaness.chen\\\\Desktop\\\\3DTEST\\\\基本圖資\\\\高程\\\\Terrain20M.DB\", \n",
    "                                  terrainName=\"terrain\",\n",
    "                                  exportType=exportType)\n",
    "# 回傳轉檔進度直到轉檔完成\n",
    "server.getConvert3dProgressToFinish(id)\n",
    "\n",
    "# 將此圖層上架至伺服器\n",
    "if exportType.upper() == \"NORMAL\":\n",
    "    server.save3dToServer(dbLayerName=layerName, layerName=layerName, layerType=LAYER_TYPE.OV_PHOTOGRAMMETRYMODEL.name, dbUrl = layerName + \".DB\")\n",
    "elif exportType.upper() == \"I3S\":\n",
    "    server.save3dToServer(dbLayerName=layerName, layerName=layerName, layerType=LAYER_TYPE.OV_OGCI3S.name, dbUrl = layerName + \".DB\")"
   ]
  },
  {
   "cell_type": "markdown",
   "metadata": {},
   "source": [
    "## 將管線圖層轉檔並上架至伺服器"
   ]
  },
  {
   "cell_type": "markdown",
   "metadata": {},
   "source": [
    "透過綁定的server物件，並提供欲設定的圖層名稱(`layerName`)、檔案格式(`mlayerType`)及輸出格式(`exportType`)，將管線圖層轉檔並上架至伺服器  \n",
    "由於3d的轉檔需要較久的時間，因此轉檔的函式會回傳一個id(如: `server.convertPipeline`)  \n",
    "可以透過此id，去跟server詢問進度  \n",
    "當轉檔成功透過`server.save3dToServer`依DB位置將圖層上架至伺服器(若輸出檔案格式為3DTILES則不上架)  \n",
    "| 參數名稱 | Type | 預設值 | 可輸入值 | 說明 |\n",
    "| :-----: | :---: | :---: | :---: | :--: |\n",
    "| layerName | string | None | --- | 上架後的圖層名稱 |\n",
    "| terrainName | string | None | --- | 初始地形圖層名稱 |\n",
    "| terrainDBFile | string | None | --- | 初始地形圖層位置 |\n",
    "| sourceFile | string | None | --- | 欲轉檔檔案位置 |\n",
    "| epsg | int | None | --- | 座標參考系統 |\n",
    "| mlayerType | string | None | PIPELINE、MANHOLE、EQUIPMENT | 欲轉檔檔案格式 |\n",
    "| exportType | string | None | NORMAL、I3S、3DTILES | 輸出檔案格式 |\n",
    "| layerDBFile | string | 預設名稱與layerName相同 | --- | 轉檔後產生的DB檔名稱 |\n",
    "\n",
    "\n",
    "\n",
    "\n",
    "\n",
    "\n"
   ]
  },
  {
   "cell_type": "code",
   "execution_count": null,
   "metadata": {},
   "outputs": [],
   "source": [
    "from OViewPy.server import Server\n",
    "from OViewPy.varstruct import LAYER_TYPE\n",
    "# 綁定Server物件\n",
    "server = Server(url=\"http://127.0.0.1:8080\")\n",
    "# 設定layer名稱\n",
    "layerName = \"EQUIPMENTTry\"\n",
    "# 設定mlayerType(可輸入'PIPELINE' or 'MANHOLE' or 'EQUIPMENT')\n",
    "mlayerType = \"EQUIPMENT\"\n",
    "# 設定exportType(可輸入'NORMAL' or 'I3S' or '3DTILES')\n",
    "exportType = \"NORMAL\"\n",
    "# 轉檔管線、人手孔及設備圖層，並會生成其對應之DB\n",
    "id = server.convertPipeline(layerName=layerName,\n",
    "                            terrainName=\"terrain\",\n",
    "                            terrainDBFile=\"C:\\\\Users\\\\vaness.chen\\\\Desktop\\\\3DTEST\\\\基本圖資\\\\高程\\\\Terrain20M.DB\", \n",
    "                            sourceFile=\"C:\\\\Users\\\\vaness.chen\\\\Downloads\\\\台中全區SHP_T\\\\台中全區SHP_T1\\\\一般供電_設備.shp\",\n",
    "                            epsg=\"3826\",\n",
    "                            mlayerType=mlayerType,\n",
    "                            exportType=exportType,\n",
    "                            layerDBFile=layerName + \".DB\",\n",
    "                            )\n",
    "# 回傳轉檔進度直到轉檔完成\n",
    "server.getConvert3dProgressToFinish(id)\n",
    "# 將此圖層上架至伺服器\n",
    "if exportType.upper() == \"NORMAL\":\n",
    "    server.save3dToServer(dbLayerName=layerName, layerName=layerName, layerType=LAYER_TYPE.OV_PIPELINE.name, dbUrl = layerName + \".DB\")\n",
    "elif exportType.upper() == \"I3S\":\n",
    "    server.save3dToServer(dbLayerName=layerName, layerName=layerName, layerType=LAYER_TYPE.OV_OGCI3S.name, dbUrl = layerName + \".DB\")"
   ]
  },
  {
   "cell_type": "markdown",
   "metadata": {},
   "source": [
    "## 將點雲圖層轉檔並上架至伺服器"
   ]
  },
  {
   "cell_type": "markdown",
   "metadata": {},
   "source": [
    "透過綁定的server物件，並提供欲設定的圖層名稱(`layerName`)及輸出格式(`exportType`)，將點雲圖層轉檔並上架至伺服器  \n",
    "由於3d的轉檔需要較久的時間，因此轉檔的函式會回傳一個id(如: `server.convertPointcloud`)  \n",
    "可以透過此id，去跟server詢問進度  \n",
    "當轉檔成功透過`server.save3dToServer`依DB位置將圖層上架至伺服器(若輸出檔案格式為3DTILES則不上架)  \n",
    "| 參數名稱 | Type | 預設值 | 可輸入值 | 說明 |\n",
    "| :-----: | :---: | :---: | :---: | :--: |\n",
    "| layerName | string | None | --- | 上架後的圖層名稱 |\n",
    "| layerDBFile | string | 預設名稱與layerName相同 | --- | 轉檔後產生的DB檔名稱 |\n",
    "| pointcloudFileNames | string | None | --- | 欲轉檔檔案位置 |\n",
    "| terrainName | string | None | --- | 初始地形圖層名稱 |\n",
    "| terrainDBFile | string | None | --- | 初始地形圖層位置 |\n",
    "| sourceEPSG | int | None | --- | 座標參考系統 |\n",
    "| exportType | string | None | NORMAL、I3S、3DTILES | 輸出檔案格式 |\n"
   ]
  },
  {
   "cell_type": "code",
   "execution_count": null,
   "metadata": {},
   "outputs": [],
   "source": [
    "from OViewPy.server import Server\n",
    "from OViewPy.varstruct import LAYER_TYPE\n",
    "# 綁定Server物件\n",
    "server = Server(url=\"http://127.0.0.1:8080\")\n",
    "# 設定layer名稱\n",
    "layerName = \"PointcloudTry\"\n",
    "# 設定exportType(可輸入'NORMAL' or 'I3S' or '3DTILES')\n",
    "exportType = \"NORMAL\"\n",
    "# 轉檔管線圖層，並會生成其對應之DB\n",
    "id = server.convertPointcloud(layerName=layerName,\n",
    "                              layerDBFile=layerName + \".DB\",\n",
    "                              pointcloudFileNames=\"C:\\\\Users\\\\vaness.chen\\\\Downloads\\\\點雲圖層\\\\點雲圖層\\\\field-1.las\",\n",
    "                              terrainName=\"terrain\",\n",
    "                              terrainDBFile=\"C:\\\\Users\\\\vaness.chen\\\\Desktop\\\\3DTEST\\\\基本圖資\\\\高程\\\\Terrain20M.DB\",\n",
    "                              sourceEPSG=\"3826\",\n",
    "                              exportType=exportType\n",
    "                             )\n",
    "# 回傳轉檔進度直到轉檔完成\n",
    "server.getConvert3dProgressToFinish(id)\n",
    "# 將此圖層上架至伺服器\n",
    "if exportType.upper() == \"NORMAL\":\n",
    "    server.save3dToServer(dbLayerName=layerName, layerName=layerName, layerType=LAYER_TYPE.OV_POINTCLOUD.name, dbUrl = layerName + \".DB\")\n",
    "elif exportType.upper() == \"I3S\":\n",
    "    server.save3dToServer(dbLayerName=layerName, layerName=layerName, layerType=LAYER_TYPE.OV_OGCI3S.name, dbUrl = layerName + \".DB\")"
   ]
  },
  {
   "cell_type": "markdown",
   "metadata": {},
   "source": [
    "## 將shp檔轉成ModelSet並上架至伺服器"
   ]
  },
  {
   "cell_type": "markdown",
   "metadata": {},
   "source": [
    "透過綁定的server物件，並提供欲設定的圖層名稱(`layerName`)及輸出格式(`exportType`)，將shp檔轉檔模型集並上架至伺服器  \n",
    "由於3d的轉檔需要較久的時間，因此轉檔的函式會回傳一個id(如: `server.shpToModelSet`)  \n",
    "可以透過此id，去跟server詢問進度  \n",
    "當轉檔成功透過`server.save3dToServer`依DB位置將圖層上架至伺服器(若輸出檔案格式為3DTILES則不上架)  \n",
    "| 參數名稱 | Type | 預設值 | 可輸入值 | 說明 |\n",
    "| :-----: | :---: | :---: | :---: | :--: |\n",
    "| layerName | string | None | --- | 上架後的圖層名稱 |\n",
    "| layerDBFile | string | 預設名稱與layerName相同 | --- | 轉檔後產生的DB檔名稱 |\n",
    "| terrainName | string | None | --- | 初始地形圖層名稱 |\n",
    "| terrainDBFile | string | None | --- | 初始地形圖層位置 |\n",
    "| sourceFileName | string | None | --- | 欲轉檔檔案位置 |\n",
    "| heightField | string | None | --- | 屋頂高欄位的名稱 |\n",
    "| epsg | int | None | --- | 座標參考系統 |\n",
    "| exportType | string | None | NORMAL、I3S、3DTILES | 輸出檔案格式 |\n"
   ]
  },
  {
   "cell_type": "code",
   "execution_count": null,
   "metadata": {},
   "outputs": [],
   "source": [
    "from OViewPy.server import Server\n",
    "from OViewPy.varstruct import LAYER_TYPE\n",
    "# 綁定Server物件\n",
    "server = Server(url=\"http://127.0.0.1:8080\")\n",
    "# 設定layer名稱\n",
    "layerName = \"shpModelSetTry\"\n",
    "# 設定exportType(可輸入'NORMAL' or 'I3S' or '3DTILES')\n",
    "exportType = \"NORMAL\"\n",
    "# 轉檔管線圖層，並會生成其對應之DB\n",
    "id = server.shpToModelSet(layerName=layerName,\n",
    "                          layerDBFile=layerName + \".DB\",\n",
    "                          terrainName=\"terrain\",\n",
    "                          terrainDBFile=\"C:\\\\Users\\\\vaness.chen\\\\Desktop\\\\3DTEST\\\\基本圖資\\\\高程\\\\Terrain20M.DB\",\n",
    "                          sourceFileName=\"C:\\\\Users\\\\vaness.chen\\\\Desktop\\\\3DTEST\\\\基本圖資\\\\模型\\\\modelset練習用\\\\TaipeiBuilding2.shp\",\n",
    "                          heightField=\"屋頂高程\",\n",
    "                          epsg=4326,\n",
    "                          exportType=exportType)\n",
    "# 回傳轉檔進度直到轉檔完成\n",
    "server.getConvert3dProgressToFinish(id)\n",
    "# 將此圖層上架至伺服器\n",
    "if exportType.upper() == \"NORMAL\":\n",
    "    server.save3dToServer(dbLayerName=layerName, layerName=layerName, layerType=LAYER_TYPE.OV_MODELSET.name, dbUrl = layerName + \".DB\")\n",
    "elif exportType.upper() == \"I3S\":\n",
    "    server.save3dToServer(dbLayerName=layerName, layerName=layerName, layerType=LAYER_TYPE.OV_OGCI3S.name, dbUrl = layerName + \".DB\")"
   ]
  },
  {
   "cell_type": "markdown",
   "metadata": {},
   "source": [
    "## 將huge檔轉成Model並上架至伺服器"
   ]
  },
  {
   "cell_type": "markdown",
   "metadata": {},
   "source": [
    "透過綁定的server物件，並提供欲設定的圖層名稱(`layerName`)及輸出格式(`exportType`)，將huge檔轉檔模型並上架至伺服器  \n",
    "由於3d的轉檔需要較久的時間，因此轉檔的函式會回傳一個id(如: `server.hugeModelToModelLayer`)  \n",
    "可以透過此id，去跟server詢問進度  \n",
    "當轉檔成功透過`server.save3dToServer`依DB位置將圖層上架至伺服器(若輸出檔案格式為3DTILES則不上架)  \n",
    "| 參數名稱 | Type | 預設值 | 可輸入值 | 說明 |\n",
    "| :-----: | :---: | :---: | :---: | :--: |\n",
    "| dbPath | string | 預設名稱與layerName相同 | --- | 轉檔後產生的DB檔名稱 |\n",
    "| layerName | string | None | --- | 上架後的圖層名稱 |\n",
    "| terrainDBFile | string | None | --- | 初始地形圖層位置 |\n",
    "| terrainName | string | None | --- | 初始地形圖層名稱 |\n",
    "| sourceFileName | string | None | --- | 欲轉檔檔案位置 |\n",
    "| exportType | string | None | NORMAL、I3S、3DTILES | 輸出檔案格式 |"
   ]
  },
  {
   "cell_type": "code",
   "execution_count": null,
   "metadata": {},
   "outputs": [],
   "source": [
    "from OViewPy.server import Server\n",
    "from OViewPy.varstruct import LAYER_TYPE\n",
    "\n",
    "# 綁定Server物件\n",
    "server = Server(url=\"http://127.0.0.1:8080\")\n",
    "# 設定layer名稱\n",
    "layerName = \"hugeModelTry\"\n",
    "# 設定exportType(可輸入'NORMAL' or 'I3S' or '3DTILES')\n",
    "exportType = \"NORMAL\"\n",
    "# 轉檔HugeModel圖層，並會生成其對應之DB\n",
    "id = server.hugeModelToModelLayer(dbPath=layerName + \".DB\",\n",
    "                                  layerName=layerName,\n",
    "                                  terrainDBFile=\"C:\\\\Users\\\\vaness.chen\\\\Desktop\\\\3DTEST\\\\基本圖資\\\\高程\\\\Terrain20M.DB\",\n",
    "                                  terrainName=\"terrain\",\n",
    "                                  sourceFileName=\"C:\\\\Users\\\\vaness.chen\\\\Desktop\\\\3DTEST\\\\基本圖資\\\\模型\\\\HugeModel練習用\\\\-Z_Y.obj\",\n",
    "                                  exportType=exportType\n",
    "                                 )\n",
    "# 回傳轉檔進度直到轉檔完成\n",
    "server.getConvert3dProgressToFinish(id)\n",
    "# 將此圖層上架至伺服器\n",
    "if exportType.upper() == \"NORMAL\":\n",
    "    server.save3dToServer(dbLayerName=layerName, layerName=layerName, layerType=LAYER_TYPE.OV_MODEL.name, dbUrl = layerName + \".DB\")\n",
    "elif exportType.upper() == \"I3S\":\n",
    "    server.save3dToServer(dbLayerName=layerName, layerName=layerName, layerType=LAYER_TYPE.OV_OGCI3S.name, dbUrl = layerName + \".DB\")"
   ]
  }
 ],
 "metadata": {
  "kernelspec": {
   "display_name": "Python 3.10.7 64-bit",
   "language": "python",
   "name": "python3"
  },
  "language_info": {
   "codemirror_mode": {
    "name": "ipython",
    "version": 3
   },
   "file_extension": ".py",
   "mimetype": "text/x-python",
   "name": "python",
   "nbconvert_exporter": "python",
   "pygments_lexer": "ipython3",
   "version": "3.10.7"
  },
  "orig_nbformat": 4,
  "vscode": {
   "interpreter": {
    "hash": "7945243e002e007126fce408414817862e46a25c5ce77ccba34884e5866db6c2"
   }
  }
 },
 "nbformat": 4,
 "nbformat_minor": 2
}

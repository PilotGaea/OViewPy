{
 "cells": [
  {
   "cell_type": "markdown",
   "metadata": {},
   "source": [
    "# Layer Module (2D Layer)"
   ]
  },
  {
   "cell_type": "markdown",
   "metadata": {},
   "source": [
    "此Module分為`RasterLayer`與`VectorLayer`兩種圖層，在初始化圖層時請選擇正確的圖層分類。  \n",
    "第一個參數(`server`)放置已綁定的Server物件，第二個參數(`layerName`)放置要取得的圖層名稱。  \n",
    "取得圖層物件後，即可透過``getLayerInfo``取得圖層相關資訊。"
   ]
  },
  {
   "cell_type": "code",
   "execution_count": null,
   "metadata": {},
   "outputs": [],
   "source": [
    "from OViewPy.server import Server\n",
    "from OViewPy.layer import RasterLayer,VectorLayer\n",
    "\n",
    "server = Server(url=\"http://127.0.0.1:8080\")\n",
    "raster = RasterLayer(server=server,layerName=\"GlobalPreview_Rough\")\n",
    "vector = VectorLayer(server=server,layerName=\"Town_MOI\")\n",
    "print(raster.layerInfo)\n",
    "print(vector.layerInfo)"
   ]
  },
  {
   "cell_type": "markdown",
   "metadata": {},
   "source": [
    "透過``getMapImage``可取得給定範圍內的地圖圖片，此Function的參數如下：\n",
    "\n",
    "> 此Function適用於`RasterLayer`與`VectorLayer`。\n",
    "\n",
    "| 參數名稱 | Type | 預設值 | 說明 |\n",
    "| :-----: | :---: | :---: | :--: |\n",
    "| boundary | GeoBoundary | None | 欲取得圖片範圍。如未給值，將直接取得完整圖片。 |\n",
    "| width | int | 512 | 圖片寬度 |\n",
    "| height | int | 512 | 圖片高度 |\n",
    "| crs | string | EPSG:4326 | 座標參考系統 |\n",
    "| format | string | image/png | 圖片格式 |"
   ]
  },
  {
   "cell_type": "code",
   "execution_count": 2,
   "metadata": {},
   "outputs": [],
   "source": [
    "from OViewPy.server import Server\n",
    "from OViewPy.layer import VectorLayer\n",
    "from OViewPy.varstruct import GeoBoundary\n",
    "from OViewPy.da import da\n",
    "\n",
    "# 綁定Server物件\n",
    "server = Server(url=\"http://127.0.0.1:8080\")\n",
    "# 綁定Layer物件\n",
    "layer = VectorLayer(server=server,layerName=\"Town_MOI\")\n",
    "# 取得圖片，取得成功會回傳圖片bytes資料\n",
    "img = layer.getMapImage(\n",
    "    boundary=GeoBoundary(147522.218692, 2422004.773002,\n",
    "                         351690.114369, 2813163.248085),\n",
    "    crs=\"EPSG:3826\",\n",
    "    width=512,\n",
    "    height=512,\n",
    "    format=\"image/png\"\n",
    ")\n",
    "# 顯示圖片\n",
    "da.showImg(img)"
   ]
  },
  {
   "cell_type": "markdown",
   "metadata": {},
   "source": [
    "如果圖層物件為`VectorLayer`，可透過`getVectorEntity`取得一定範圍內的向量資料。  \n",
    "此Function的參數如下：\n",
    "\n",
    "| 參數名稱 | Type | 預設值 | 說明 |\n",
    "| :-----: | :---: | :---: | :--: |\n",
    "| bound | GeoBoundary/GeoPolygon | None | 欲取得向量資料範圍。如未給值，將直接取得完整圖層向量資料。 |\n",
    "| epsg | int | 4326 | 座標參考系統 |\n",
    "| sql | string | \"\" | 搜尋條件 |"
   ]
  },
  {
   "cell_type": "code",
   "execution_count": null,
   "metadata": {},
   "outputs": [],
   "source": [
    "from OViewPy.server import Server\n",
    "from OViewPy.layer import VectorLayer\n",
    "from OViewPy.varstruct import GeoBoundary\n",
    "\n",
    "# 綁定Server物件\n",
    "server = Server(url=\"http://127.0.0.1:8080\")\n",
    "# 綁定Layer物件\n",
    "map = VectorLayer(server=server, layerName=\"Town_MOI\")\n",
    "# 設定搜尋條件\n",
    "sql = \"County_ID=64\"\n",
    "# 取得向量資料\n",
    "ret = map.getVectorEntity(epsg=3826,sql=sql)\n",
    "print(\"Geo：\", ret[\"geo\"][0].ToDict())\n",
    "print(\"Attr：\", ret[\"attr\"][0].ToDict())\n"
   ]
  }
 ],
 "metadata": {
  "kernelspec": {
   "display_name": "Python 3.10.7 64-bit",
   "language": "python",
   "name": "python3"
  },
  "language_info": {
   "codemirror_mode": {
    "name": "ipython",
    "version": 3
   },
   "file_extension": ".py",
   "mimetype": "text/x-python",
   "name": "python",
   "nbconvert_exporter": "python",
   "pygments_lexer": "ipython3",
   "version": "3.10.7"
  },
  "orig_nbformat": 4,
  "vscode": {
   "interpreter": {
    "hash": "50406f7c2803912dc70c0cb91a51e9dd21566dab63f9c94eb005f84bbfa26de5"
   }
  }
 },
 "nbformat": 4,
 "nbformat_minor": 2
}

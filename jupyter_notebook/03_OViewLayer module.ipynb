{
 "cells": [
  {
   "cell_type": "markdown",
   "metadata": {},
   "source": [
    "# OViewLayer Module "
   ]
  },
  {
   "cell_type": "markdown",
   "metadata": {},
   "source": [
    "此Module分為`TerrainLayer`、`PipeLineLayer`、`ModelLayer`、`ModelSetLayer`等4種3D模型圖層。<br/>\n",
    "第一個參數(`server`)放置已綁定的Server物件，第二個參數(`layerName`)放置要取得的圖層名稱。<br/>\n",
    "取得圖層物件後，即可透過``getLayerInfo``取得圖層相關資訊。\n"
   ]
  },
  {
   "cell_type": "code",
   "execution_count": null,
   "metadata": {},
   "outputs": [],
   "source": [
    "from OViewPy.server import Server\n",
    "from OViewPy.oviewlayer import TerrainLayer, PipeLineLayer, ModelLayer, ModelSetLayer\n",
    "\n",
    "server = Server(url=\"http://127.0.0.1:8080\")\n",
    "Terrain = TerrainLayer(server=server, layerName=\"gebco_2021_geotiff_retransfer\")\n",
    "PipeLine = PipeLineLayer(server=server, layerName=\"TaichungPipeline\")\n",
    "Model = ModelLayer(server=server, layerName=\"ChungHsingBIM\")\n",
    "ModelSet = ModelSetLayer(server=server, layerName=\"TaichungKMZ\")\n",
    "print(Terrain.layerInfo)\n",
    "print(PipeLine.layerInfo)\n",
    "print(Model.layerInfo)\n",
    "print(ModelSet.layerInfo)"
   ]
  },
  {
   "cell_type": "markdown",
   "metadata": {},
   "source": [
    "## TerrainLayer\n",
    "\n",
    "### getDEMMatrix\n",
    "\n",
    "`TerrainLayer`可透過`getDEMMatrix`取得地形網格資料，此Function的參數如下：\n",
    "| 參數名稱 | Type | 預設值 | 說明 |\n",
    "| :-----: | :---: | :---: | :--: |\n",
    "| boundary | GeoBoundary | None | 欲取得地形網格範圍。 |\n",
    "| cellDemSize | int | 500 | 地形網格數，將取得n*n個網格資料。 |\n",
    "| epsg | int | 4326 | boundary EPSG |\n"
   ]
  },
  {
   "cell_type": "code",
   "execution_count": 2,
   "metadata": {},
   "outputs": [
    {
     "name": "stdout",
     "output_type": "stream",
     "text": [
      "<class 'numpy.ndarray'>\n"
     ]
    }
   ],
   "source": [
    "from OViewPy.server import Server\n",
    "from OViewPy.oviewlayer import TerrainLayer\n",
    "from OViewPy.varstruct import GeoBoundary\n",
    "\n",
    "server = Server(url=\"http://127.0.0.1:8080\")\n",
    "Terrain = TerrainLayer(\n",
    "    server=server, layerName=\"gebco_2021_geotiff_retransfer\")\n",
    "boundary = GeoBoundary(119.981273, 21.892673,\n",
    "                       122.010898, 25.424327)\n",
    "matrix = Terrain.getDEMMatrix(boundary=boundary, cellDemSize=500, epsg=4326)\n",
    "print(type(matrix))"
   ]
  },
  {
   "cell_type": "markdown",
   "metadata": {},
   "source": [
    "### hillshadeAnalysis\n",
    "\n",
    "取得山體陰影分析，分析結果將存為GeoTiff，此Function的參數如下：\n",
    "| 參數名稱 | Type | 預設值 | 說明 |\n",
    "| :-----: | :---: | :---: | :--: |\n",
    "| boundary | GeoBoundary | None | 欲取得地形網格範圍。 |\n",
    "| cellDemSize | int | 500 | 地形網格數，將取得n*n個網格資料。 |\n",
    "| epsg | int | 4326 | boundary EPSG |\n",
    "| azimuth | int | 30 | 太陽方位角 |\n",
    "| altitude | int | 30 | 太陽高度角 |\n",
    "| savePath | string | \".\" | 檔案儲存位置 |\n",
    "| fileName | string | \"defaultDEM\" | 檔案名稱 |\n",
    "| width | int | 21600 | 圖片寬 |\n",
    "| height | int | 21600 | 圖片高 |\n"
   ]
  },
  {
   "cell_type": "code",
   "execution_count": null,
   "metadata": {},
   "outputs": [],
   "source": [
    "from OViewPy.server import Server\n",
    "from OViewPy.oviewlayer import TerrainLayer\n",
    "from OViewPy.varstruct import GeoBoundary\n",
    "\n",
    "server = Server(url=\"http://127.0.0.1:8080\")\n",
    "Terrain = TerrainLayer(\n",
    "    server=server, layerName=\"gebco_2021_geotiff_retransfer\")\n",
    "boundary = GeoBoundary(119.981273, 21.892673,\n",
    "                       122.010898, 25.424327)\n",
    "Terrain.hillshadeAnalysis(boundary=boundary, cellDemSize=500, epsg=4326,\n",
    "                          azimuth=150, altitude=60,\n",
    "                          savePath=\".\", fileName=\"defaultHillShade\", width=10800, height=21600)\n"
   ]
  },
  {
   "cell_type": "markdown",
   "metadata": {},
   "source": [
    "### slopeAnalysis\n",
    "\n",
    "取得坡度分析，分析結果將存為GeoTiff，此Function的參數如下：\n",
    "| 參數名稱 | Type | 預設值 | 說明 |\n",
    "| :-----: | :---: | :---: | :--: |\n",
    "| boundary | GeoBoundary | None | 欲取得地形網格範圍。 |\n",
    "| cellDemSize | int | 500 | 地形網格數，將取得n*n個網格資料。 |\n",
    "| epsg | int | 4326 | boundary EPSG |\n",
    "| savePath | string | \".\" | 檔案儲存位置 |\n",
    "| fileName | string | \"defaultDEM\" | 檔案名稱 |\n",
    "| width | int | 21600 | 圖片寬 |\n",
    "| height | int | 21600 | 圖片高 |\n"
   ]
  },
  {
   "cell_type": "code",
   "execution_count": null,
   "metadata": {},
   "outputs": [],
   "source": [
    "from OViewPy.server import Server\n",
    "from OViewPy.oviewlayer import TerrainLayer\n",
    "from OViewPy.varstruct import GeoBoundary\n",
    "\n",
    "server = Server(url=\"http://127.0.0.1:8080\")\n",
    "Terrain = TerrainLayer(\n",
    "    server=server, layerName=\"gebco_2021_geotiff_retransfer\")\n",
    "boundary = GeoBoundary(119.981273, 21.892673,\n",
    "                       122.010898, 25.424327)\n",
    "Terrain.slopeAnalysis(boundary=boundary, cellDemSize=500, epsg=4326,\n",
    "                      savePath=\".\", fileName=\"defaultSlope\", width=10800, height=21600)\n"
   ]
  },
  {
   "cell_type": "markdown",
   "metadata": {},
   "source": [
    "### aspectAnalysis\n",
    "\n",
    "取得坡向分析，分析結果將存為GeoTiff，此Function的參數如下：\n",
    "| 參數名稱 | Type | 預設值 | 說明 |\n",
    "| :-----: | :---: | :---: | :--: |\n",
    "| boundary | GeoBoundary | None | 欲取得地形網格範圍。 |\n",
    "| cellDemSize | int | 500 | 地形網格數，將取得n*n個網格資料。 |\n",
    "| epsg | int | 4326 | boundary EPSG |\n",
    "| savePath | string | \".\" | 檔案儲存位置 |\n",
    "| fileName | string | \"defaultDEM\" | 檔案名稱 |\n",
    "| width | int | 21600 | 圖片寬 |\n",
    "| height | int | 21600 | 圖片高 |\n"
   ]
  },
  {
   "cell_type": "code",
   "execution_count": null,
   "metadata": {},
   "outputs": [],
   "source": [
    "from OViewPy.server import Server\n",
    "from OViewPy.oviewlayer import TerrainLayer\n",
    "from OViewPy.varstruct import GeoBoundary\n",
    "\n",
    "server = Server(url=\"http://127.0.0.1:8080\")\n",
    "Terrain = TerrainLayer(\n",
    "    server=server, layerName=\"gebco_2021_geotiff_retransfer\")\n",
    "boundary = GeoBoundary(119.981273, 21.892673,\n",
    "                       122.010898, 25.424327)\n",
    "Terrain.aspectAnalysis(boundary=boundary, cellDemSize=500, epsg=4326,\n",
    "                      savePath=\".\", fileName=\"defaultAspect\", width=10800, height=21600)\n"
   ]
  },
  {
   "cell_type": "markdown",
   "metadata": {},
   "source": [
    "### contourLineAnalysis\n",
    "\n",
    "取得等高線分析，分析結果將存為png/GeoJson，此Function的參數如下：\n",
    "| 參數名稱 | Type | 預設值 | 說明 |\n",
    "| :-----: | :---: | :---: | :--: |\n",
    "| boundary | GeoBoundary | None | 欲取得地形網格範圍。 |\n",
    "| cellDemSize | int | 500 | 地形網格數，將取得n*n個網格資料。 |\n",
    "| epsg | int | 4326 | boundary EPSG |\n",
    "| savePath | string | \".\" | 檔案儲存位置 |\n",
    "| fileName | string | \"defaultDEM\" | 檔案名稱 |\n",
    "| fileType | string | \"image\" | 儲存類型，\"image\" / \"geojson\" |\n",
    "| width | int | 21600 | 圖片寬 |\n",
    "| height | int | 21600 | 圖片高 |\n"
   ]
  },
  {
   "cell_type": "code",
   "execution_count": null,
   "metadata": {},
   "outputs": [],
   "source": [
    "from OViewPy.server import Server\n",
    "from OViewPy.oviewlayer import TerrainLayer\n",
    "from OViewPy.varstruct import GeoBoundary\n",
    "\n",
    "server = Server(url=\"http://127.0.0.1:8080\")\n",
    "Terrain = TerrainLayer(\n",
    "    server=server, layerName=\"gebco_2021_geotiff_retransfer\")\n",
    "boundary = GeoBoundary(119.981273, 21.892673,\n",
    "                       122.010898, 25.424327)\n",
    "Terrain.contourLineAnalysis(boundary=boundary, cellDemSize=500, epsg=4326,fileType=\"image\",\n",
    "                      savePath=\".\", fileName=\"defaultContourLine\", width=10800, height=21600)\n",
    "Terrain.contourLineAnalysis(boundary=boundary, cellDemSize=500, epsg=4326,fileType=\"geojson\",\n",
    "                      savePath=\".\", fileName=\"defaultContourLine\")"
   ]
  },
  {
   "cell_type": "markdown",
   "metadata": {},
   "source": [
    "## OViewEmtityLayer\n",
    "\n",
    "除了`TerrainLayer`外，其餘三種圖層皆屬於`OViewEmtityLayer`，可透過`getVectorEmtity`取得圖層Emtity。\n",
    "此Function參數如下：\n",
    "\n",
    "| 參數名稱 | Type | 預設值 | 說明 |\n",
    "| :-----: | :---: | :---: | :--: |\n",
    "| bound | GeoBoundary/GeoPolygon | None | 欲取得向量資料範圍。如未給值，將直接取得完整圖層向量資料。 |\n",
    "| epsg | int | 4326 | 座標參考系統 |\n",
    "| sql | string | \"\" | 搜尋條件 |"
   ]
  },
  {
   "cell_type": "code",
   "execution_count": null,
   "metadata": {},
   "outputs": [],
   "source": [
    "from OViewPy.server import Server\n",
    "from OViewPy.oviewlayer import PipeLineLayer, ModelLayer, ModelSetLayer\n",
    "\n",
    "server = Server(url=\"http://127.0.0.1:8080\")\n",
    "PipeLine = PipeLineLayer(server=server, layerName=\"TaichungPipeline\")\n",
    "# Model = ModelLayer(server=server, layerName=\"ChungHsingBIM\")\n",
    "# ModelSet = ModelSetLayer(server=server, layerName=\"TaichungKMZ\")\n",
    "ret = PipeLine.getVectorEmtity()\n",
    "print(\"Geo：\", ret[\"geo\"][0].ToDict())\n",
    "print(\"Attr：\", ret[\"attr\"][0].ToDict())"
   ]
  }
 ],
 "metadata": {
  "kernelspec": {
   "display_name": "Python 3.9.7 64-bit",
   "language": "python",
   "name": "python3"
  },
  "language_info": {
   "codemirror_mode": {
    "name": "ipython",
    "version": 3
   },
   "file_extension": ".py",
   "mimetype": "text/x-python",
   "name": "python",
   "nbconvert_exporter": "python",
   "pygments_lexer": "ipython3",
   "version": "3.9.7"
  },
  "orig_nbformat": 4,
  "vscode": {
   "interpreter": {
    "hash": "50494ffbcb0671a7b78181fa0a9b25de7884a951d19292c68aa5e49b4d5d44ac"
   }
  }
 },
 "nbformat": 4,
 "nbformat_minor": 2
}

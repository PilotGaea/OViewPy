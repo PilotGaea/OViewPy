{
 "cells": [
  {
   "cell_type": "markdown",
   "metadata": {},
   "source": [
    "# Server Module"
   ]
  },
  {
   "cell_type": "markdown",
   "metadata": {},
   "source": [
    "## 初始化Server物件\n",
    "本章節為PliotGaea Python Module的起始點，在執行所有操作前須先初始化Server物件，提供Module取得Map Server資源的相關連線資訊。"
   ]
  },
  {
   "cell_type": "code",
   "execution_count": 2,
   "metadata": {},
   "outputs": [],
   "source": [
    "from pgpy.server import Server\n",
    "\n",
    "# 綁定Server物件\n",
    "server = Server(url=\"http://127.0.0.1:8080\")"
   ]
  },
  {
   "cell_type": "markdown",
   "metadata": {},
   "source": [
    "綁定Server物件後，即可取得Server相關資訊。"
   ]
  },
  {
   "cell_type": "code",
   "execution_count": 3,
   "metadata": {},
   "outputs": [
    {
     "name": "stdout",
     "output_type": "stream",
     "text": [
      "OView Map Server Version： None\n",
      "WMTS URL： http://127.0.0.1:8080/wmts?\n",
      "WMS URL： http://127.0.0.1:8080/wms?\n",
      "DoCommand URL： http://127.0.0.1:8080/DoCmd?cmd=\n"
     ]
    }
   ],
   "source": [
    "from pgpy.server import Server\n",
    "\n",
    "# 綁定Server物件\n",
    "server = Server(url=\"http://127.0.0.1:8080\")\n",
    "# 取得目前Server版本\n",
    "print(\"OView Map Server Version：\",server.version)\n",
    "# 取得WMTS URL\n",
    "print(\"WMTS URL：\",server.wmtsURL)\n",
    "# 取得WMS URL\n",
    "print(\"WMS URL：\",server.wmsURL)\n",
    "# 取得DoCommand URL\n",
    "print(\"DoCommand URL：\",server.docmdURL)"
   ]
  },
  {
   "cell_type": "code",
   "execution_count": null,
   "metadata": {},
   "outputs": [],
   "source": []
  }
 ],
 "metadata": {
  "kernelspec": {
   "display_name": "Python 3 (ipykernel)",
   "language": "python",
   "name": "python3"
  },
  "language_info": {
   "codemirror_mode": {
    "name": "ipython",
    "version": 3
   },
   "file_extension": ".py",
   "mimetype": "text/x-python",
   "name": "python",
   "nbconvert_exporter": "python",
   "pygments_lexer": "ipython3",
   "version": "3.10.5"
  },
  "vscode": {
   "interpreter": {
    "hash": "50494ffbcb0671a7b78181fa0a9b25de7884a951d19292c68aa5e49b4d5d44ac"
   }
  }
 },
 "nbformat": 4,
 "nbformat_minor": 2
}

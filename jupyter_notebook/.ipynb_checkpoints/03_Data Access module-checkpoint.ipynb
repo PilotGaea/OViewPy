{
 "cells": [
  {
   "cell_type": "markdown",
   "id": "62e72eed",
   "metadata": {},
   "source": [
    "# Data Access Module"
   ]
  },
  {
   "cell_type": "markdown",
   "id": "a77ea33c",
   "metadata": {},
   "source": [
    "## 使用資料處理模組\n",
    "此模組可將取得的資料轉換成Python常用的Numpy、Shapely等資料格式，以供開發者方便計算。"
   ]
  },
  {
   "cell_type": "markdown",
   "id": "14be6228",
   "metadata": {},
   "source": [
    "### 圖片(Bytes)與Numpy Array轉換"
   ]
  },
  {
   "cell_type": "code",
   "execution_count": 4,
   "id": "7d119748",
   "metadata": {},
   "outputs": [
    {
     "data": {
      "text/plain": [
       "True"
      ]
     },
     "execution_count": 4,
     "metadata": {},
     "output_type": "execute_result"
    }
   ],
   "source": [
    "from pgpy.server import Server\n",
    "from pgpy.layer import Layer\n",
    "from pgpy.varstruct import GeoBoundary\n",
    "from pgpy.da import da\n",
    "import cv2\n",
    "\n",
    "# 綁定Server物件\n",
    "server = Server(url=\"http://127.0.0.1:8080\")\n",
    "# 綁定Layer物件\n",
    "layer = Layer(server=server,layerName=\"taipei_500m_grid\")\n",
    "# 取得圖片，取得成功會回傳圖片bytes資料\n",
    "img = layer.getMapImage(\n",
    "    boundary=GeoBoundary(121.457036, 24.961628,\n",
    "                         121.665035, 25.210286),\n",
    "    crs=\"EPSG:4326\",\n",
    "    width=512,\n",
    "    height=512,\n",
    "    format=\"image/png\"\n",
    ")\n",
    "# 將圖片轉換成Numpy Array\n",
    "npArray = da.imgToNumPyArray(img)\n",
    "# 透過cv2讀取Numpy Array\n",
    "image = cv2.imdecode(npArray, cv2.IMREAD_UNCHANGED)\n",
    "# 處理成高斯模糊\n",
    "blurred = cv2.GaussianBlur(image, (51, 51), 0)\n",
    "# 將處理後的圖片轉成jpg編碼\n",
    "blurred = cv2.imencode('.jpg',blurred)[1]\n",
    "# 將Numpy Array 轉回 Bytes格式\n",
    "blurred = da.numPyArrayToImg(blurred)\n",
    "# 顯示圖片\n",
    "da.showImg(blurred)\n",
    "# 儲存圖片\n",
    "da.saveImg(img=blurred, savePath=\".\", imgName=\"高斯模糊\", imgType=\"jpg\")"
   ]
  },
  {
   "cell_type": "markdown",
   "id": "337f0635",
   "metadata": {},
   "source": [
    "### 向量格式轉換成Numpy Array"
   ]
  },
  {
   "cell_type": "code",
   "execution_count": 5,
   "id": "937b7bd7",
   "metadata": {},
   "outputs": [
    {
     "name": "stdout",
     "output_type": "stream",
     "text": [
      "<class 'numpy.ndarray'>\n"
     ]
    }
   ],
   "source": [
    "from pgpy.server import Server\n",
    "from pgpy.layer import Layer\n",
    "from pgpy.varstruct import GeoBoundary\n",
    "\n",
    "# 綁定Server物件\n",
    "server = Server(url=\"http://127.0.0.1:8080\")\n",
    "# 綁定Layer物件\n",
    "map = Layer(server=server,layerName=\"taipei_500m_grid\")\n",
    "# 設定範圍\n",
    "geo = GeoBoundary(121.457036, 24.961628,121.665035, 25.210286)\n",
    "# 取得向量資料\n",
    "ret = map.getVectorEmtity(bound=geo)\n",
    "# 將向量資料轉換成Numpy\n",
    "npRet = da.vectorEmtityToNumPyArray(ret[\"geo\"])\n",
    "# 顯示資料類型\n",
    "print(type(npRet[0]))"
   ]
  },
  {
   "cell_type": "markdown",
   "id": "c7458a72",
   "metadata": {},
   "source": [
    "### 向量格式轉換成Shapely"
   ]
  },
  {
   "cell_type": "code",
   "execution_count": 6,
   "id": "9d3f4c0e",
   "metadata": {},
   "outputs": [
    {
     "name": "stdout",
     "output_type": "stream",
     "text": [
      "<class 'shapely.geometry.multipolygon.MultiPolygon'>\n"
     ]
    }
   ],
   "source": [
    "from pgpy.server import Server\n",
    "from pgpy.layer import Layer\n",
    "from pgpy.varstruct import GeoBoundary\n",
    "\n",
    "# 綁定Server物件\n",
    "server = Server(url=\"http://127.0.0.1:8080\")\n",
    "# 綁定Layer物件\n",
    "map = Layer(server=server,layerName=\"taipei_500m_grid\")\n",
    "# 設定範圍\n",
    "geo = GeoBoundary(121.457036, 24.961628,121.665035, 25.210286)\n",
    "# 取得向量資料\n",
    "ret = map.getVectorEmtity(bound=geo)\n",
    "# 將向量資料轉換成Numpy\n",
    "shpRet = da.vectorEmtityToShapely(ret[\"geo\"])\n",
    "# 顯示資料類型\n",
    "print(type(shpRet[0]))"
   ]
  },
  {
   "cell_type": "code",
   "execution_count": null,
   "id": "9558903f",
   "metadata": {},
   "outputs": [],
   "source": []
  }
 ],
 "metadata": {
  "kernelspec": {
   "display_name": "Python 3 (ipykernel)",
   "language": "python",
   "name": "python3"
  },
  "language_info": {
   "codemirror_mode": {
    "name": "ipython",
    "version": 3
   },
   "file_extension": ".py",
   "mimetype": "text/x-python",
   "name": "python",
   "nbconvert_exporter": "python",
   "pygments_lexer": "ipython3",
   "version": "3.10.5"
  },
  "vscode": {
   "interpreter": {
    "hash": "50494ffbcb0671a7b78181fa0a9b25de7884a951d19292c68aa5e49b4d5d44ac"
   }
  }
 },
 "nbformat": 4,
 "nbformat_minor": 5
}
